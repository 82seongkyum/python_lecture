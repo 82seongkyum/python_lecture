{
 "cells": [
  {
   "cell_type": "code",
   "execution_count": null,
   "id": "3cb1fa33",
   "metadata": {
    "ExecuteTime": {
     "start_time": "2021-11-12T08:11:25.957Z"
    }
   },
   "outputs": [],
   "source": [
    "!pip install pandas"
   ]
  },
  {
   "cell_type": "code",
   "execution_count": 1,
   "id": "e339734d",
   "metadata": {
    "ExecuteTime": {
     "end_time": "2021-11-12T08:15:19.901824Z",
     "start_time": "2021-11-12T08:15:17.731281Z"
    },
    "scrolled": true
   },
   "outputs": [
    {
     "name": "stdout",
     "output_type": "stream",
     "text": [
      "Requirement already satisfied: pandas in c:\\users\\seongkyum\\appdata\\local\\programs\\python\\python39\\lib\\site-packages (1.3.4)Note: you may need to restart the kernel to use updated packages.\n",
      "Requirement already satisfied: python-dateutil>=2.7.3 in c:\\users\\seongkyum\\appdata\\local\\programs\\python\\python39\\lib\\site-packages (from pandas) (2.8.2)\n",
      "Requirement already satisfied: numpy>=1.17.3 in c:\\users\\seongkyum\\appdata\\local\\programs\\python\\python39\\lib\\site-packages (from pandas) (1.21.4)\n",
      "Requirement already satisfied: pytz>=2017.3 in c:\\users\\seongkyum\\appdata\\local\\programs\\python\\python39\\lib\\site-packages (from pandas) (2021.3)\n",
      "Requirement already satisfied: six>=1.5 in c:\\users\\seongkyum\\appdata\\local\\programs\\python\\python39\\lib\\site-packages (from python-dateutil>=2.7.3->pandas) (1.16.0)\n",
      "\n"
     ]
    },
    {
     "name": "stderr",
     "output_type": "stream",
     "text": [
      "WARNING: You are using pip version 21.2.4; however, version 21.3.1 is available.\n",
      "You should consider upgrading via the 'C:\\Users\\SEONGKYUM\\AppData\\Local\\Programs\\Python\\Python39\\python.exe -m pip install --upgrade pip' command.\n"
     ]
    }
   ],
   "source": [
    "pip install pandas"
   ]
  },
  {
   "cell_type": "code",
   "execution_count": 2,
   "id": "b121fff4",
   "metadata": {
    "ExecuteTime": {
     "end_time": "2021-11-12T08:15:56.213651Z",
     "start_time": "2021-11-12T08:15:55.534169Z"
    }
   },
   "outputs": [],
   "source": [
    "import pandas as pd"
   ]
  },
  {
   "cell_type": "markdown",
   "id": "03b48bf7",
   "metadata": {},
   "source": [
    "##### Series"
   ]
  },
  {
   "cell_type": "code",
   "execution_count": 8,
   "id": "d19ad9b1",
   "metadata": {
    "ExecuteTime": {
     "end_time": "2021-11-12T08:24:18.950540Z",
     "start_time": "2021-11-12T08:24:18.944536Z"
    }
   },
   "outputs": [],
   "source": [
    "srs = pd.Series([10, 20, 30, 50], index=[\"서울\",\"대전\",\"대구\",\"부산\"])"
   ]
  },
  {
   "cell_type": "code",
   "execution_count": 9,
   "id": "3c6eedb3",
   "metadata": {
    "ExecuteTime": {
     "end_time": "2021-11-12T08:24:23.617679Z",
     "start_time": "2021-11-12T08:24:23.611674Z"
    }
   },
   "outputs": [
    {
     "data": {
      "text/plain": [
       "Index(['서울', '대전', '대구', '부산'], dtype='object')"
      ]
     },
     "execution_count": 9,
     "metadata": {},
     "output_type": "execute_result"
    }
   ],
   "source": [
    "srs.index"
   ]
  },
  {
   "cell_type": "code",
   "execution_count": 5,
   "id": "03067641",
   "metadata": {
    "ExecuteTime": {
     "end_time": "2021-11-12T08:17:41.921292Z",
     "start_time": "2021-11-12T08:17:41.915290Z"
    }
   },
   "outputs": [
    {
     "data": {
      "text/plain": [
       "array([10, 20, 30, 50], dtype=int64)"
      ]
     },
     "execution_count": 5,
     "metadata": {},
     "output_type": "execute_result"
    }
   ],
   "source": [
    "srs.values"
   ]
  },
  {
   "cell_type": "code",
   "execution_count": 10,
   "id": "951e9ebe",
   "metadata": {
    "ExecuteTime": {
     "end_time": "2021-11-12T08:24:28.076852Z",
     "start_time": "2021-11-12T08:24:28.062842Z"
    }
   },
   "outputs": [
    {
     "data": {
      "text/plain": [
       "['대구', '대전', '부산', '서울']"
      ]
     },
     "execution_count": 10,
     "metadata": {},
     "output_type": "execute_result"
    }
   ],
   "source": [
    "sorted(srs.index)"
   ]
  },
  {
   "cell_type": "code",
   "execution_count": 7,
   "id": "4ccb5be5",
   "metadata": {
    "ExecuteTime": {
     "end_time": "2021-11-12T08:23:48.356781Z",
     "start_time": "2021-11-12T08:23:48.348776Z"
    }
   },
   "outputs": [
    {
     "data": {
      "text/plain": [
       "[10, 20, 30, 50]"
      ]
     },
     "execution_count": 7,
     "metadata": {},
     "output_type": "execute_result"
    }
   ],
   "source": [
    "sorted(srs.values)"
   ]
  },
  {
   "cell_type": "code",
   "execution_count": 11,
   "id": "000000eb",
   "metadata": {
    "ExecuteTime": {
     "end_time": "2021-11-12T08:25:06.123534Z",
     "start_time": "2021-11-12T08:25:06.111524Z"
    }
   },
   "outputs": [
    {
     "data": {
      "text/plain": [
       "대구    30\n",
       "대전    20\n",
       "부산    50\n",
       "서울    10\n",
       "dtype: int64"
      ]
     },
     "execution_count": 11,
     "metadata": {},
     "output_type": "execute_result"
    }
   ],
   "source": [
    "srs.reindex(sorted(srs.index))"
   ]
  },
  {
   "cell_type": "code",
   "execution_count": 13,
   "id": "6162740f",
   "metadata": {
    "ExecuteTime": {
     "end_time": "2021-11-12T08:25:49.065916Z",
     "start_time": "2021-11-12T08:25:49.059910Z"
    }
   },
   "outputs": [],
   "source": [
    "srs_1 = srs.reindex(sorted(srs.index))"
   ]
  },
  {
   "cell_type": "code",
   "execution_count": 17,
   "id": "fba9e65d",
   "metadata": {
    "ExecuteTime": {
     "end_time": "2021-11-12T08:28:16.357399Z",
     "start_time": "2021-11-12T08:28:16.345389Z"
    }
   },
   "outputs": [
    {
     "data": {
      "text/plain": [
       "서울    10.0\n",
       "대전    20.0\n",
       "대구    30.0\n",
       "부산    50.0\n",
       "마산     NaN\n",
       "dtype: float64"
      ]
     },
     "execution_count": 17,
     "metadata": {},
     "output_type": "execute_result"
    }
   ],
   "source": [
    "srs_1.reindex(['서울', '대전', '대구', '부산', '마산'])"
   ]
  },
  {
   "cell_type": "code",
   "execution_count": null,
   "id": "562bbe02",
   "metadata": {},
   "outputs": [],
   "source": [
    "data =sorted(srs.index).index"
   ]
  },
  {
   "cell_type": "markdown",
   "id": "545c1139",
   "metadata": {},
   "source": [
    "##### Series의 합"
   ]
  },
  {
   "cell_type": "code",
   "execution_count": 18,
   "id": "9525f635",
   "metadata": {
    "ExecuteTime": {
     "end_time": "2021-11-12T08:36:32.717592Z",
     "start_time": "2021-11-12T08:36:32.495432Z"
    }
   },
   "outputs": [
    {
     "ename": "AttributeError",
     "evalue": "module 'pandas' has no attribute 'srs'",
     "output_type": "error",
     "traceback": [
      "\u001b[1;31m---------------------------------------------------------------------------\u001b[0m",
      "\u001b[1;31mAttributeError\u001b[0m                            Traceback (most recent call last)",
      "\u001b[1;32mC:\\Users\\SEONGK~1\\AppData\\Local\\Temp/ipykernel_10852/1368740086.py\u001b[0m in \u001b[0;36m<module>\u001b[1;34m\u001b[0m\n\u001b[1;32m----> 1\u001b[1;33m \u001b[0mx\u001b[0m \u001b[1;33m=\u001b[0m \u001b[0mpd\u001b[0m\u001b[1;33m.\u001b[0m\u001b[0msrs\u001b[0m\u001b[1;33m(\u001b[0m\u001b[1;33m[\u001b[0m\u001b[1;36m3\u001b[0m\u001b[1;33m,\u001b[0m\u001b[1;36m8\u001b[0m\u001b[1;33m,\u001b[0m\u001b[1;36m5\u001b[0m\u001b[1;33m,\u001b[0m\u001b[1;36m9\u001b[0m\u001b[1;33m]\u001b[0m\u001b[1;33m,\u001b[0m \u001b[0mindex\u001b[0m\u001b[1;33m=\u001b[0m\u001b[1;33m[\u001b[0m\u001b[1;34m'서울'\u001b[0m\u001b[1;33m,\u001b[0m\u001b[1;34m'대구'\u001b[0m\u001b[1;33m,\u001b[0m\u001b[1;34m'부산'\u001b[0m\u001b[1;33m,\u001b[0m\u001b[1;34m'광주'\u001b[0m\u001b[1;33m]\u001b[0m\u001b[1;33m)\u001b[0m\u001b[1;33m\u001b[0m\u001b[1;33m\u001b[0m\u001b[0m\n\u001b[0m\u001b[0;32m      2\u001b[0m \u001b[0my\u001b[0m \u001b[1;33m=\u001b[0m \u001b[0mpd\u001b[0m\u001b[1;33m.\u001b[0m\u001b[0msrs\u001b[0m\u001b[1;33m(\u001b[0m\u001b[1;33m[\u001b[0m\u001b[1;36m2\u001b[0m\u001b[1;33m,\u001b[0m\u001b[1;36m4\u001b[0m\u001b[1;33m,\u001b[0m\u001b[1;36m5\u001b[0m\u001b[1;33m,\u001b[0m\u001b[1;36m1\u001b[0m\u001b[1;33m]\u001b[0m\u001b[1;33m,\u001b[0m \u001b[0mindex\u001b[0m\u001b[1;33m=\u001b[0m\u001b[1;33m[\u001b[0m\u001b[1;34m'서울'\u001b[0m\u001b[1;33m,\u001b[0m\u001b[1;34m'대구'\u001b[0m\u001b[1;33m,\u001b[0m\u001b[1;34m'부산'\u001b[0m\u001b[1;33m,\u001b[0m\u001b[1;34m'광주'\u001b[0m\u001b[1;33m]\u001b[0m\u001b[1;33m)\u001b[0m\u001b[1;33m\u001b[0m\u001b[1;33m\u001b[0m\u001b[0m\n\u001b[0;32m      3\u001b[0m \u001b[1;33m\u001b[0m\u001b[0m\n\u001b[0;32m      4\u001b[0m \u001b[1;31m# 54p.참조\u001b[0m\u001b[1;33m\u001b[0m\u001b[1;33m\u001b[0m\u001b[0m\n",
      "\u001b[1;32m~\\AppData\\Local\\Programs\\Python\\Python39\\lib\\site-packages\\pandas\\__init__.py\u001b[0m in \u001b[0;36m__getattr__\u001b[1;34m(name)\u001b[0m\n\u001b[0;32m    242\u001b[0m         \u001b[1;32mreturn\u001b[0m \u001b[0m_SparseArray\u001b[0m\u001b[1;33m\u001b[0m\u001b[1;33m\u001b[0m\u001b[0m\n\u001b[0;32m    243\u001b[0m \u001b[1;33m\u001b[0m\u001b[0m\n\u001b[1;32m--> 244\u001b[1;33m     \u001b[1;32mraise\u001b[0m \u001b[0mAttributeError\u001b[0m\u001b[1;33m(\u001b[0m\u001b[1;34mf\"module 'pandas' has no attribute '{name}'\"\u001b[0m\u001b[1;33m)\u001b[0m\u001b[1;33m\u001b[0m\u001b[1;33m\u001b[0m\u001b[0m\n\u001b[0m\u001b[0;32m    245\u001b[0m \u001b[1;33m\u001b[0m\u001b[0m\n\u001b[0;32m    246\u001b[0m \u001b[1;33m\u001b[0m\u001b[0m\n",
      "\u001b[1;31mAttributeError\u001b[0m: module 'pandas' has no attribute 'srs'"
     ]
    }
   ],
   "source": [
    "x = pd.srs([3,8,5,9], index=['서울','대구','부산','광주'])\n",
    "y = pd.srs([2,4,5,1], index=['서울','대구','부산','광주'])\n",
    "\n",
    "# 54p.참조"
   ]
  },
  {
   "cell_type": "code",
   "execution_count": 24,
   "id": "096dab11",
   "metadata": {
    "ExecuteTime": {
     "end_time": "2021-11-12T08:41:04.691703Z",
     "start_time": "2021-11-12T08:41:04.686700Z"
    }
   },
   "outputs": [],
   "source": [
    "data = [(\"a\", 1), (\"b\", 2)]"
   ]
  },
  {
   "cell_type": "code",
   "execution_count": 25,
   "id": "06aa7b24",
   "metadata": {
    "ExecuteTime": {
     "end_time": "2021-11-12T08:41:06.729153Z",
     "start_time": "2021-11-12T08:41:06.723148Z"
    }
   },
   "outputs": [
    {
     "data": {
      "text/plain": [
       "{'a': 1, 'b': 2}"
      ]
     },
     "execution_count": 25,
     "metadata": {},
     "output_type": "execute_result"
    }
   ],
   "source": [
    "dict(data)"
   ]
  },
  {
   "cell_type": "code",
   "execution_count": 20,
   "id": "b38ab012",
   "metadata": {
    "ExecuteTime": {
     "end_time": "2021-11-12T08:39:35.890586Z",
     "start_time": "2021-11-12T08:39:35.881581Z"
    }
   },
   "outputs": [
    {
     "data": {
      "text/plain": [
       "a    1\n",
       "b    2\n",
       "dtype: int64"
      ]
     },
     "execution_count": 20,
     "metadata": {},
     "output_type": "execute_result"
    }
   ],
   "source": [
    "pd.Series({\"a\":1, \"b\":2})"
   ]
  },
  {
   "cell_type": "code",
   "execution_count": null,
   "id": "fbb58ef6",
   "metadata": {},
   "outputs": [],
   "source": []
  },
  {
   "cell_type": "code",
   "execution_count": null,
   "id": "3f3d5135",
   "metadata": {},
   "outputs": [],
   "source": []
  },
  {
   "cell_type": "code",
   "execution_count": null,
   "id": "2770d32b",
   "metadata": {},
   "outputs": [],
   "source": []
  }
 ],
 "metadata": {
  "kernelspec": {
   "display_name": "Python 3 (ipykernel)",
   "language": "python",
   "name": "python3"
  },
  "language_info": {
   "codemirror_mode": {
    "name": "ipython",
    "version": 3
   },
   "file_extension": ".py",
   "mimetype": "text/x-python",
   "name": "python",
   "nbconvert_exporter": "python",
   "pygments_lexer": "ipython3",
   "version": "3.9.8"
  },
  "toc": {
   "base_numbering": 1,
   "nav_menu": {},
   "number_sections": true,
   "sideBar": true,
   "skip_h1_title": false,
   "title_cell": "Table of Contents",
   "title_sidebar": "Contents",
   "toc_cell": false,
   "toc_position": {},
   "toc_section_display": true,
   "toc_window_display": false
  },
  "varInspector": {
   "cols": {
    "lenName": 16,
    "lenType": 16,
    "lenVar": 40
   },
   "kernels_config": {
    "python": {
     "delete_cmd_postfix": "",
     "delete_cmd_prefix": "del ",
     "library": "var_list.py",
     "varRefreshCmd": "print(var_dic_list())"
    },
    "r": {
     "delete_cmd_postfix": ") ",
     "delete_cmd_prefix": "rm(",
     "library": "var_list.r",
     "varRefreshCmd": "cat(var_dic_list()) "
    }
   },
   "types_to_exclude": [
    "module",
    "function",
    "builtin_function_or_method",
    "instance",
    "_Feature"
   ],
   "window_display": false
  }
 },
 "nbformat": 4,
 "nbformat_minor": 5
}
