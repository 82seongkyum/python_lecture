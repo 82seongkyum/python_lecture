{
 "cells": [
  {
   "cell_type": "code",
   "execution_count": 1,
   "id": "85f9d305",
   "metadata": {
    "ExecuteTime": {
     "end_time": "2021-11-12T01:46:37.904157Z",
     "start_time": "2021-11-12T01:46:37.900155Z"
    }
   },
   "outputs": [],
   "source": [
    "import math"
   ]
  },
  {
   "cell_type": "code",
   "execution_count": 6,
   "id": "d6121228",
   "metadata": {
    "ExecuteTime": {
     "end_time": "2021-11-12T01:53:05.520093Z",
     "start_time": "2021-11-12T01:53:04.395293Z"
    }
   },
   "outputs": [],
   "source": [
    "import numpy"
   ]
  },
  {
   "cell_type": "markdown",
   "id": "851fa6a8",
   "metadata": {},
   "source": [
    "##### array"
   ]
  },
  {
   "cell_type": "code",
   "execution_count": 25,
   "id": "f9e76437",
   "metadata": {
    "ExecuteTime": {
     "end_time": "2021-11-12T02:17:11.378279Z",
     "start_time": "2021-11-12T02:17:11.367269Z"
    }
   },
   "outputs": [
    {
     "data": {
      "text/plain": [
       "array([1, 2, 3])"
      ]
     },
     "execution_count": 25,
     "metadata": {},
     "output_type": "execute_result"
    }
   ],
   "source": [
    "import numpy as np\n",
    "array1 = np.array([1,2,3])\n",
    "array2 = np.array([[1,2,3], \n",
    "                   [4,5,6]])\n",
    "array1"
   ]
  },
  {
   "cell_type": "code",
   "execution_count": 21,
   "id": "6b8f13cb",
   "metadata": {
    "ExecuteTime": {
     "end_time": "2021-11-12T02:14:24.182734Z",
     "start_time": "2021-11-12T02:14:24.170726Z"
    },
    "scrolled": true
   },
   "outputs": [
    {
     "ename": "TypeError",
     "evalue": "can't multiply sequence by non-int of type 'list'",
     "output_type": "error",
     "traceback": [
      "\u001b[1;31m---------------------------------------------------------------------------\u001b[0m",
      "\u001b[1;31mTypeError\u001b[0m                                 Traceback (most recent call last)",
      "\u001b[1;32mC:\\Users\\SEONGK~1\\AppData\\Local\\Temp/ipykernel_3708/2157623410.py\u001b[0m in \u001b[0;36m<module>\u001b[1;34m\u001b[0m\n\u001b[1;32m----> 1\u001b[1;33m \u001b[1;33m[\u001b[0m\u001b[1;36m1\u001b[0m\u001b[1;33m,\u001b[0m\u001b[1;36m2\u001b[0m\u001b[1;33m,\u001b[0m\u001b[1;36m3\u001b[0m\u001b[1;33m]\u001b[0m \u001b[1;33m*\u001b[0m \u001b[1;33m[\u001b[0m\u001b[1;36m4\u001b[0m\u001b[1;33m,\u001b[0m\u001b[1;36m5\u001b[0m\u001b[1;33m,\u001b[0m\u001b[1;36m6\u001b[0m\u001b[1;33m]\u001b[0m\u001b[1;33m\u001b[0m\u001b[1;33m\u001b[0m\u001b[0m\n\u001b[0m",
      "\u001b[1;31mTypeError\u001b[0m: can't multiply sequence by non-int of type 'list'"
     ]
    }
   ],
   "source": [
    "[1,2,3] * [4,5,6]"
   ]
  },
  {
   "cell_type": "code",
   "execution_count": 19,
   "id": "fa745da6",
   "metadata": {
    "ExecuteTime": {
     "end_time": "2021-11-12T02:13:41.812597Z",
     "start_time": "2021-11-12T02:13:41.806593Z"
    }
   },
   "outputs": [],
   "source": [
    "array1 = np.array([1,2,3])\n",
    "array3 = np.array([4,5,6])"
   ]
  },
  {
   "cell_type": "code",
   "execution_count": 22,
   "id": "672ab1da",
   "metadata": {
    "ExecuteTime": {
     "end_time": "2021-11-12T02:14:35.378697Z",
     "start_time": "2021-11-12T02:14:35.370693Z"
    }
   },
   "outputs": [
    {
     "data": {
      "text/plain": [
       "array([ 4, 10, 18])"
      ]
     },
     "execution_count": 22,
     "metadata": {},
     "output_type": "execute_result"
    }
   ],
   "source": [
    "array1*array3"
   ]
  },
  {
   "cell_type": "code",
   "execution_count": 23,
   "id": "7bdeec9b",
   "metadata": {
    "ExecuteTime": {
     "end_time": "2021-11-12T02:15:41.014675Z",
     "start_time": "2021-11-12T02:15:41.007669Z"
    }
   },
   "outputs": [
    {
     "data": {
      "text/plain": [
       "(3,)"
      ]
     },
     "execution_count": 23,
     "metadata": {},
     "output_type": "execute_result"
    }
   ],
   "source": [
    "# 차원 알아보기\n",
    "\n",
    "array1.shape"
   ]
  },
  {
   "cell_type": "code",
   "execution_count": 26,
   "id": "0e330534",
   "metadata": {
    "ExecuteTime": {
     "end_time": "2021-11-12T02:17:21.850727Z",
     "start_time": "2021-11-12T02:17:21.843721Z"
    }
   },
   "outputs": [
    {
     "data": {
      "text/plain": [
       "(2, 3)"
      ]
     },
     "execution_count": 26,
     "metadata": {},
     "output_type": "execute_result"
    }
   ],
   "source": [
    "array2.shape"
   ]
  },
  {
   "cell_type": "code",
   "execution_count": 27,
   "id": "d3690b2a",
   "metadata": {
    "ExecuteTime": {
     "end_time": "2021-11-12T02:20:51.825711Z",
     "start_time": "2021-11-12T02:20:51.819708Z"
    }
   },
   "outputs": [],
   "source": [
    "ndarray = np.array([[[1,2,3.5], \n",
    "                     [4,5,6]], \n",
    "                    [[7,8,9], \n",
    "                     [10,11,12]]])"
   ]
  },
  {
   "cell_type": "code",
   "execution_count": 28,
   "id": "6fe6e586",
   "metadata": {
    "ExecuteTime": {
     "end_time": "2021-11-12T02:21:13.624069Z",
     "start_time": "2021-11-12T02:21:13.617065Z"
    }
   },
   "outputs": [
    {
     "data": {
      "text/plain": [
       "(2, 2, 3)"
      ]
     },
     "execution_count": 28,
     "metadata": {},
     "output_type": "execute_result"
    }
   ],
   "source": [
    "ndarray.shape"
   ]
  },
  {
   "cell_type": "code",
   "execution_count": 29,
   "id": "5b5b5508",
   "metadata": {
    "ExecuteTime": {
     "end_time": "2021-11-12T02:21:54.220943Z",
     "start_time": "2021-11-12T02:21:54.213939Z"
    }
   },
   "outputs": [
    {
     "data": {
      "text/plain": [
       "array([[[ 1,  2,  3],\n",
       "        [ 4,  5,  6]],\n",
       "\n",
       "       [[ 7,  8,  9],\n",
       "        [10, 11, 12]]])"
      ]
     },
     "execution_count": 29,
     "metadata": {},
     "output_type": "execute_result"
    }
   ],
   "source": [
    "ndarray"
   ]
  },
  {
   "cell_type": "code",
   "execution_count": 30,
   "id": "327953de",
   "metadata": {
    "ExecuteTime": {
     "end_time": "2021-11-12T02:25:29.882553Z",
     "start_time": "2021-11-12T02:25:29.875548Z"
    }
   },
   "outputs": [
    {
     "data": {
      "text/plain": [
       "array([[[ 1.,  2.,  3.],\n",
       "        [ 4.,  5.,  6.]],\n",
       "\n",
       "       [[ 7.,  8.,  9.],\n",
       "        [10., 11., 12.]]])"
      ]
     },
     "execution_count": 30,
     "metadata": {},
     "output_type": "execute_result"
    }
   ],
   "source": [
    "ndarray.astype('float')"
   ]
  },
  {
   "cell_type": "markdown",
   "id": "094d4c0d",
   "metadata": {},
   "source": [
    "numpy.zeros(shape, dtype=float, order='C', *, like=None)"
   ]
  },
  {
   "cell_type": "code",
   "execution_count": 32,
   "id": "5d327f99",
   "metadata": {
    "ExecuteTime": {
     "end_time": "2021-11-12T02:31:04.838847Z",
     "start_time": "2021-11-12T02:31:04.827840Z"
    }
   },
   "outputs": [
    {
     "data": {
      "text/plain": [
       "array([10., 10., 10., 10., 10., 10., 10., 10., 10., 10.])"
      ]
     },
     "execution_count": 32,
     "metadata": {},
     "output_type": "execute_result"
    }
   ],
   "source": [
    "# zeros() 메소드\n",
    "\n",
    "np.zeros(10) + 10"
   ]
  },
  {
   "cell_type": "code",
   "execution_count": 35,
   "id": "cda0ab24",
   "metadata": {
    "ExecuteTime": {
     "end_time": "2021-11-12T02:32:34.705395Z",
     "start_time": "2021-11-12T02:32:34.698390Z"
    }
   },
   "outputs": [
    {
     "data": {
      "text/plain": [
       "array([2., 2., 2., 2., 2., 2., 2., 2., 2., 2.])"
      ]
     },
     "execution_count": 35,
     "metadata": {},
     "output_type": "execute_result"
    }
   ],
   "source": [
    "np.ones(10)*2"
   ]
  },
  {
   "cell_type": "code",
   "execution_count": 36,
   "id": "dfe4d83f",
   "metadata": {
    "ExecuteTime": {
     "end_time": "2021-11-12T02:32:46.562838Z",
     "start_time": "2021-11-12T02:32:46.529808Z"
    }
   },
   "outputs": [
    {
     "ename": "AttributeError",
     "evalue": "module 'numpy' has no attribute 'two'",
     "output_type": "error",
     "traceback": [
      "\u001b[1;31m---------------------------------------------------------------------------\u001b[0m",
      "\u001b[1;31mAttributeError\u001b[0m                            Traceback (most recent call last)",
      "\u001b[1;32mC:\\Users\\SEONGK~1\\AppData\\Local\\Temp/ipykernel_3708/32297438.py\u001b[0m in \u001b[0;36m<module>\u001b[1;34m\u001b[0m\n\u001b[1;32m----> 1\u001b[1;33m \u001b[0mnp\u001b[0m\u001b[1;33m.\u001b[0m\u001b[0mtwo\u001b[0m\u001b[1;33m(\u001b[0m\u001b[1;36m10\u001b[0m\u001b[1;33m)\u001b[0m\u001b[1;33m\u001b[0m\u001b[1;33m\u001b[0m\u001b[0m\n\u001b[0m",
      "\u001b[1;32m~\\AppData\\Local\\Programs\\Python\\Python39\\lib\\site-packages\\numpy\\__init__.py\u001b[0m in \u001b[0;36m__getattr__\u001b[1;34m(attr)\u001b[0m\n\u001b[0;32m    311\u001b[0m                 \u001b[1;32mreturn\u001b[0m \u001b[0mTester\u001b[0m\u001b[1;33m\u001b[0m\u001b[1;33m\u001b[0m\u001b[0m\n\u001b[0;32m    312\u001b[0m \u001b[1;33m\u001b[0m\u001b[0m\n\u001b[1;32m--> 313\u001b[1;33m             raise AttributeError(\"module {!r} has no attribute \"\n\u001b[0m\u001b[0;32m    314\u001b[0m                                  \"{!r}\".format(__name__, attr))\n\u001b[0;32m    315\u001b[0m \u001b[1;33m\u001b[0m\u001b[0m\n",
      "\u001b[1;31mAttributeError\u001b[0m: module 'numpy' has no attribute 'two'"
     ]
    }
   ],
   "source": [
    "np.two(10) # 비트는 0과 1로 / 바로 위 참조"
   ]
  },
  {
   "cell_type": "code",
   "execution_count": 37,
   "id": "608f907e",
   "metadata": {
    "ExecuteTime": {
     "end_time": "2021-11-12T02:38:19.316299Z",
     "start_time": "2021-11-12T02:38:19.307292Z"
    }
   },
   "outputs": [
    {
     "data": {
      "text/plain": [
       "array([[[2, 2, 2],\n",
       "        [2, 2, 2],\n",
       "        [2, 2, 2],\n",
       "        [2, 2, 2],\n",
       "        [2, 2, 2]],\n",
       "\n",
       "       [[2, 2, 2],\n",
       "        [2, 2, 2],\n",
       "        [2, 2, 2],\n",
       "        [2, 2, 2],\n",
       "        [2, 2, 2]]])"
      ]
     },
     "execution_count": 37,
     "metadata": {},
     "output_type": "execute_result"
    }
   ],
   "source": [
    "np.ones((2, 5, 3), dtype=int)*2"
   ]
  },
  {
   "cell_type": "code",
   "execution_count": 38,
   "id": "59808aae",
   "metadata": {
    "ExecuteTime": {
     "end_time": "2021-11-12T02:39:12.743365Z",
     "start_time": "2021-11-12T02:39:12.739362Z"
    }
   },
   "outputs": [],
   "source": [
    "ndarray = np.ones((2, 5), dtype=int)*2"
   ]
  },
  {
   "cell_type": "code",
   "execution_count": 40,
   "id": "08da2742",
   "metadata": {
    "ExecuteTime": {
     "end_time": "2021-11-12T02:39:34.591701Z",
     "start_time": "2021-11-12T02:39:34.584699Z"
    }
   },
   "outputs": [
    {
     "data": {
      "text/plain": [
       "(2, 5)"
      ]
     },
     "execution_count": 40,
     "metadata": {},
     "output_type": "execute_result"
    }
   ],
   "source": [
    "ndarray.shape"
   ]
  },
  {
   "cell_type": "markdown",
   "id": "6f78b436",
   "metadata": {},
   "source": [
    "##### sqrt\n"
   ]
  },
  {
   "cell_type": "markdown",
   "id": "1d263130",
   "metadata": {},
   "source": [
    "##### transpose()\n",
    "numpy.transpose(a, axes=None)"
   ]
  },
  {
   "cell_type": "code",
   "execution_count": 3,
   "id": "39eb1e6a",
   "metadata": {
    "ExecuteTime": {
     "end_time": "2021-11-12T04:46:02.531022Z",
     "start_time": "2021-11-12T04:46:02.514004Z"
    }
   },
   "outputs": [
    {
     "ename": "AttributeError",
     "evalue": "module 'numpy' has no attribute 'nonetranspose'",
     "output_type": "error",
     "traceback": [
      "\u001b[1;31m---------------------------------------------------------------------------\u001b[0m",
      "\u001b[1;31mAttributeError\u001b[0m                            Traceback (most recent call last)",
      "\u001b[1;32mC:\\Users\\SEONGK~1\\AppData\\Local\\Temp/ipykernel_11668/2171902026.py\u001b[0m in \u001b[0;36m<module>\u001b[1;34m\u001b[0m\n\u001b[0;32m      1\u001b[0m \u001b[0mx\u001b[0m \u001b[1;33m=\u001b[0m \u001b[0mnp\u001b[0m\u001b[1;33m.\u001b[0m\u001b[0marange\u001b[0m\u001b[1;33m(\u001b[0m\u001b[1;36m4\u001b[0m\u001b[1;33m)\u001b[0m\u001b[1;33m.\u001b[0m\u001b[0mreshape\u001b[0m\u001b[1;33m(\u001b[0m\u001b[1;33m(\u001b[0m\u001b[1;36m2\u001b[0m\u001b[1;33m,\u001b[0m\u001b[1;36m2\u001b[0m\u001b[1;33m)\u001b[0m\u001b[1;33m)\u001b[0m\u001b[1;33m\u001b[0m\u001b[1;33m\u001b[0m\u001b[0m\n\u001b[1;32m----> 2\u001b[1;33m \u001b[0mnp\u001b[0m\u001b[1;33m.\u001b[0m\u001b[0mnonetranspose\u001b[0m\u001b[1;33m(\u001b[0m\u001b[0mx\u001b[0m\u001b[1;33m)\u001b[0m\u001b[1;33m\u001b[0m\u001b[1;33m\u001b[0m\u001b[0m\n\u001b[0m",
      "\u001b[1;32m~\\AppData\\Local\\Programs\\Python\\Python39\\lib\\site-packages\\numpy\\__init__.py\u001b[0m in \u001b[0;36m__getattr__\u001b[1;34m(attr)\u001b[0m\n\u001b[0;32m    311\u001b[0m                 \u001b[1;32mreturn\u001b[0m \u001b[0mTester\u001b[0m\u001b[1;33m\u001b[0m\u001b[1;33m\u001b[0m\u001b[0m\n\u001b[0;32m    312\u001b[0m \u001b[1;33m\u001b[0m\u001b[0m\n\u001b[1;32m--> 313\u001b[1;33m             raise AttributeError(\"module {!r} has no attribute \"\n\u001b[0m\u001b[0;32m    314\u001b[0m                                  \"{!r}\".format(__name__, attr))\n\u001b[0;32m    315\u001b[0m \u001b[1;33m\u001b[0m\u001b[0m\n",
      "\u001b[1;31mAttributeError\u001b[0m: module 'numpy' has no attribute 'nonetranspose'"
     ]
    }
   ],
   "source": [
    "x = np.arange(4).reshape((2,2))\n",
    "np.nonetranspose(x)"
   ]
  },
  {
   "cell_type": "code",
   "execution_count": 1,
   "id": "2c41713b",
   "metadata": {
    "ExecuteTime": {
     "end_time": "2021-11-12T05:11:13.065633Z",
     "start_time": "2021-11-12T05:11:13.061630Z"
    }
   },
   "outputs": [],
   "source": [
    "# 교제 20p~21p 정리"
   ]
  },
  {
   "cell_type": "code",
   "execution_count": 2,
   "id": "dd445e70",
   "metadata": {
    "ExecuteTime": {
     "end_time": "2021-11-12T05:11:16.794287Z",
     "start_time": "2021-11-12T05:11:16.766266Z"
    },
    "scrolled": true
   },
   "outputs": [
    {
     "name": "stdout",
     "output_type": "stream",
     "text": [
      "b: [20 40 60]\n",
      "b: [20 10 60]\n",
      "a: [10 20 30 40 50 60 70]\n"
     ]
    },
    {
     "data": {
      "text/plain": [
       "numpy.ndarray"
      ]
     },
     "execution_count": 2,
     "metadata": {},
     "output_type": "execute_result"
    }
   ],
   "source": [
    "a = np.array([10, 20, 30, 40, 50, 60, 70])\n",
    "b = np.array(a[1:6:2])\n",
    "print('b:', b)\n",
    "b[1] = 10\n",
    "print('b:', b)\n",
    "print('a:', a)\n",
    "type(b)"
   ]
  },
  {
   "cell_type": "markdown",
   "id": "99d036a1",
   "metadata": {},
   "source": [
    "##### np.random\n",
    "random.random(size=None)"
   ]
  },
  {
   "cell_type": "code",
   "execution_count": 3,
   "id": "4fee8053",
   "metadata": {
    "ExecuteTime": {
     "end_time": "2021-11-12T05:19:05.214479Z",
     "start_time": "2021-11-12T05:19:05.208474Z"
    }
   },
   "outputs": [
    {
     "name": "stdout",
     "output_type": "stream",
     "text": [
      "[False False False False False  True  True]\n"
     ]
    }
   ],
   "source": [
    "a = np.array([10,20,30,40,50,60,70])\n",
    "b = a > 50\n",
    "print(b)"
   ]
  },
  {
   "cell_type": "code",
   "execution_count": 5,
   "id": "cac53324",
   "metadata": {
    "ExecuteTime": {
     "end_time": "2021-11-12T05:20:12.860243Z",
     "start_time": "2021-11-12T05:20:12.853239Z"
    }
   },
   "outputs": [
    {
     "name": "stdout",
     "output_type": "stream",
     "text": [
      "[0.18710474 0.66929237 0.05738173 0.6185754  0.19919337]\n",
      "<class 'numpy.ndarray'>\n",
      "True\n",
      "False\n"
     ]
    }
   ],
   "source": [
    "array_rdm = np.random.random(5)\n",
    "print(array_rdm)\n",
    "print(type(array_rdm))\n",
    "print(np.all(array_rdm >= 0))\n",
    "print(np.any(array_rdm > 0.7))"
   ]
  },
  {
   "cell_type": "markdown",
   "id": "7ff3293d",
   "metadata": {},
   "source": [
    "##### linspace\n",
    "numpy.linspace(start, stop, num=50, endpoint=True, retstep=False, dtype=None, axis=0)"
   ]
  },
  {
   "cell_type": "code",
   "execution_count": 6,
   "id": "26a318be",
   "metadata": {
    "ExecuteTime": {
     "end_time": "2021-11-12T05:23:52.655983Z",
     "start_time": "2021-11-12T05:23:52.651983Z"
    }
   },
   "outputs": [],
   "source": [
    "# 0과 12 를 포함한 그 사이의 값들을 선형적으로 분배하여 모두 4개의 원소를 갖는 배열을 생성"
   ]
  },
  {
   "cell_type": "code",
   "execution_count": 9,
   "id": "3c3ad517",
   "metadata": {
    "ExecuteTime": {
     "end_time": "2021-11-12T05:26:24.463201Z",
     "start_time": "2021-11-12T05:26:24.449193Z"
    }
   },
   "outputs": [
    {
     "ename": "AttributeError",
     "evalue": "module 'numpy' has no attribute 'llinspace'",
     "output_type": "error",
     "traceback": [
      "\u001b[1;31m---------------------------------------------------------------------------\u001b[0m",
      "\u001b[1;31mAttributeError\u001b[0m                            Traceback (most recent call last)",
      "\u001b[1;32mC:\\Users\\SEONGK~1\\AppData\\Local\\Temp/ipykernel_1824/2762246039.py\u001b[0m in \u001b[0;36m<module>\u001b[1;34m\u001b[0m\n\u001b[1;32m----> 1\u001b[1;33m \u001b[0mnp\u001b[0m\u001b[1;33m.\u001b[0m\u001b[0mllinspace\u001b[0m\u001b[1;33m(\u001b[0m\u001b[1;36m0\u001b[0m\u001b[1;33m,\u001b[0m \u001b[1;36m12\u001b[0m\u001b[1;33m,\u001b[0m \u001b[1;36m4\u001b[0m\u001b[1;33m)\u001b[0m\u001b[1;33m\u001b[0m\u001b[1;33m\u001b[0m\u001b[0m\n\u001b[0m",
      "\u001b[1;32m~\\AppData\\Local\\Programs\\Python\\Python39\\lib\\site-packages\\numpy\\__init__.py\u001b[0m in \u001b[0;36m__getattr__\u001b[1;34m(attr)\u001b[0m\n\u001b[0;32m    311\u001b[0m                 \u001b[1;32mreturn\u001b[0m \u001b[0mTester\u001b[0m\u001b[1;33m\u001b[0m\u001b[1;33m\u001b[0m\u001b[0m\n\u001b[0;32m    312\u001b[0m \u001b[1;33m\u001b[0m\u001b[0m\n\u001b[1;32m--> 313\u001b[1;33m             raise AttributeError(\"module {!r} has no attribute \"\n\u001b[0m\u001b[0;32m    314\u001b[0m                                  \"{!r}\".format(__name__, attr))\n\u001b[0;32m    315\u001b[0m \u001b[1;33m\u001b[0m\u001b[0m\n",
      "\u001b[1;31mAttributeError\u001b[0m: module 'numpy' has no attribute 'llinspace'"
     ]
    }
   ],
   "source": [
    "np.llinspace(0, 12, 4)"
   ]
  },
  {
   "cell_type": "markdown",
   "id": "21c87ce6",
   "metadata": {
    "ExecuteTime": {
     "end_time": "2021-11-12T05:27:10.147601Z",
     "start_time": "2021-11-12T05:27:10.141596Z"
    }
   },
   "source": [
    "np.linspace(0, 12, num=4)\n",
    "np.linspace(0, 12, 4, retstep=True)\n",
    "np.linspace(0, 12, 4, False)"
   ]
  },
  {
   "cell_type": "code",
   "execution_count": 11,
   "id": "25b44517",
   "metadata": {
    "ExecuteTime": {
     "end_time": "2021-11-12T05:27:14.811918Z",
     "start_time": "2021-11-12T05:27:14.799910Z"
    },
    "scrolled": true
   },
   "outputs": [
    {
     "ename": "NameError",
     "evalue": "name 'arr_1' is not defined",
     "output_type": "error",
     "traceback": [
      "\u001b[1;31m---------------------------------------------------------------------------\u001b[0m",
      "\u001b[1;31mNameError\u001b[0m                                 Traceback (most recent call last)",
      "\u001b[1;32mC:\\Users\\SEONGK~1\\AppData\\Local\\Temp/ipykernel_1824/1281558550.py\u001b[0m in \u001b[0;36m<module>\u001b[1;34m\u001b[0m\n\u001b[1;32m----> 1\u001b[1;33m \u001b[0mprint\u001b[0m\u001b[1;33m(\u001b[0m\u001b[0marr_1\u001b[0m\u001b[1;33m,\u001b[0m \u001b[0marr_2\u001b[0m\u001b[1;33m,\u001b[0m \u001b[0marr_3\u001b[0m\u001b[1;33m)\u001b[0m\u001b[1;33m\u001b[0m\u001b[1;33m\u001b[0m\u001b[0m\n\u001b[0m",
      "\u001b[1;31mNameError\u001b[0m: name 'arr_1' is not defined"
     ]
    }
   ],
   "source": [
    "print(arr_1, arr_2, arr_3)"
   ]
  },
  {
   "cell_type": "markdown",
   "id": "3a47898e",
   "metadata": {
    "ExecuteTime": {
     "end_time": "2021-11-12T05:31:16.765519Z",
     "start_time": "2021-11-12T05:31:16.751508Z"
    }
   },
   "source": [
    "##### logsapce\n",
    "numpy.logspace(start, stop, num=50, endpoint=True, base=10.0, dtype=None, axis=0)"
   ]
  },
  {
   "cell_type": "code",
   "execution_count": 18,
   "id": "420ea3f4",
   "metadata": {
    "ExecuteTime": {
     "end_time": "2021-11-12T05:36:44.492181Z",
     "start_time": "2021-11-12T05:36:44.486175Z"
    }
   },
   "outputs": [
    {
     "data": {
      "text/plain": [
       "array([ 10.        ,  17.7827941 ,  31.6227766 ,  56.23413252,\n",
       "       100.        ])"
      ]
     },
     "execution_count": 18,
     "metadata": {},
     "output_type": "execute_result"
    }
   ],
   "source": [
    "np.logspace(np.log10(10), np.log10(100), 5)"
   ]
  },
  {
   "cell_type": "code",
   "execution_count": 19,
   "id": "00393eb5",
   "metadata": {
    "ExecuteTime": {
     "end_time": "2021-11-12T05:37:06.426338Z",
     "start_time": "2021-11-12T05:37:06.419333Z"
    }
   },
   "outputs": [
    {
     "data": {
      "text/plain": [
       "array([ 10.        ,  17.7827941 ,  31.6227766 ,  56.23413252,\n",
       "       100.        ])"
      ]
     },
     "execution_count": 19,
     "metadata": {},
     "output_type": "execute_result"
    }
   ],
   "source": [
    "np.logspace(1, 2, 5)"
   ]
  },
  {
   "cell_type": "markdown",
   "id": "d5e20c2f",
   "metadata": {},
   "source": [
    "##### random.rand()\n",
    "random.rand(d0, d1, ..., dn)"
   ]
  },
  {
   "cell_type": "code",
   "execution_count": 26,
   "id": "b2f75b37",
   "metadata": {
    "ExecuteTime": {
     "end_time": "2021-11-12T05:45:26.306702Z",
     "start_time": "2021-11-12T05:45:26.299719Z"
    }
   },
   "outputs": [
    {
     "data": {
      "text/plain": [
       "array([0.97862378, 0.81168315, 0.17194101, 0.81622475, 0.27407375])"
      ]
     },
     "execution_count": 26,
     "metadata": {},
     "output_type": "execute_result"
    }
   ],
   "source": [
    "#np.random.seed(10)\n",
    "np.random.rand(5)\n",
    "# np.random.rand(2,3)"
   ]
  },
  {
   "cell_type": "code",
   "execution_count": 27,
   "id": "9e4311c0",
   "metadata": {
    "ExecuteTime": {
     "end_time": "2021-11-12T05:46:35.643697Z",
     "start_time": "2021-11-12T05:46:35.634691Z"
    }
   },
   "outputs": [
    {
     "data": {
      "text/plain": [
       "array([0.77132064, 0.02075195, 0.63364823, 0.74880388, 0.49850701])"
      ]
     },
     "execution_count": 27,
     "metadata": {},
     "output_type": "execute_result"
    }
   ],
   "source": [
    "np.random.seed(10)\n",
    "np.random.rand(5)\n",
    "# np.random.rand(2,3)"
   ]
  },
  {
   "cell_type": "code",
   "execution_count": 28,
   "id": "8ee4caa9",
   "metadata": {
    "ExecuteTime": {
     "end_time": "2021-11-12T05:46:38.227535Z",
     "start_time": "2021-11-12T05:46:38.220530Z"
    }
   },
   "outputs": [
    {
     "data": {
      "text/plain": [
       "array([[0.22479665, 0.19806286, 0.76053071],\n",
       "       [0.16911084, 0.08833981, 0.68535982]])"
      ]
     },
     "execution_count": 28,
     "metadata": {},
     "output_type": "execute_result"
    }
   ],
   "source": [
    "np.random.rand(2,3)"
   ]
  },
  {
   "cell_type": "code",
   "execution_count": 29,
   "id": "67b2a39a",
   "metadata": {
    "ExecuteTime": {
     "end_time": "2021-11-12T05:46:56.480517Z",
     "start_time": "2021-11-12T05:46:56.473513Z"
    }
   },
   "outputs": [
    {
     "data": {
      "text/plain": [
       "array([[0.95339335, 0.00394827, 0.51219226, 0.81262096, 0.61252607],\n",
       "       [0.72175532, 0.29187607, 0.91777412, 0.71457578, 0.54254437],\n",
       "       [0.14217005, 0.37334076, 0.67413362, 0.44183317, 0.43401399],\n",
       "       [0.61776698, 0.51313824, 0.65039718, 0.60103895, 0.8052232 ],\n",
       "       [0.52164715, 0.90864888, 0.31923609, 0.09045935, 0.30070006],\n",
       "       [0.11398436, 0.82868133, 0.04689632, 0.62628715, 0.54758616],\n",
       "       [0.819287  , 0.19894754, 0.8568503 , 0.35165264, 0.75464769],\n",
       "       [0.29596171, 0.88393648, 0.32551164, 0.1650159 , 0.39252924],\n",
       "       [0.09346037, 0.82110566, 0.15115202, 0.38411445, 0.94426071],\n",
       "       [0.98762547, 0.45630455, 0.82612284, 0.25137413, 0.59737165]])"
      ]
     },
     "execution_count": 29,
     "metadata": {},
     "output_type": "execute_result"
    }
   ],
   "source": [
    "np.random.rand(10, 5)"
   ]
  },
  {
   "cell_type": "markdown",
   "id": "0444dadc",
   "metadata": {},
   "source": [
    "##### numpy.random.randn\n",
    "random.randn(d0, d1, ..., dn)\n",
    "Return a sample (or samples) from the “standard normal” distribution."
   ]
  },
  {
   "cell_type": "code",
   "execution_count": 31,
   "id": "30901ac9",
   "metadata": {
    "ExecuteTime": {
     "end_time": "2021-11-12T05:54:28.029704Z",
     "start_time": "2021-11-12T05:54:28.021698Z"
    }
   },
   "outputs": [
    {
     "data": {
      "text/plain": [
       "array([ 0.07878845,  0.91841365, -0.49269736,  0.09646237, -0.65275994])"
      ]
     },
     "execution_count": 31,
     "metadata": {},
     "output_type": "execute_result"
    }
   ],
   "source": [
    "np.random.randn(5)"
   ]
  },
  {
   "cell_type": "code",
   "execution_count": 32,
   "id": "95b32faa",
   "metadata": {
    "ExecuteTime": {
     "end_time": "2021-11-12T05:55:02.741694Z",
     "start_time": "2021-11-12T05:55:02.729686Z"
    },
    "scrolled": true
   },
   "outputs": [
    {
     "data": {
      "text/plain": [
       "array([[-0.22176244, -1.06828657, -1.22769205, -1.79857302],\n",
       "       [-0.68520734, -1.40986887,  1.25239859,  0.46956276],\n",
       "       [ 0.32692165,  1.80854321, -1.413068  ,  2.52330509],\n",
       "       [ 0.3473178 , -0.88735951, -1.05961725,  0.34795146],\n",
       "       [-1.55866445, -0.99504103,  2.62115252, -0.34088642]])"
      ]
     },
     "execution_count": 32,
     "metadata": {},
     "output_type": "execute_result"
    }
   ],
   "source": [
    "np.random.randn(5, 4)"
   ]
  },
  {
   "cell_type": "code",
   "execution_count": 33,
   "id": "a0bb86b0",
   "metadata": {
    "ExecuteTime": {
     "end_time": "2021-11-12T05:56:29.870950Z",
     "start_time": "2021-11-12T05:56:29.863947Z"
    }
   },
   "outputs": [
    {
     "data": {
      "text/plain": [
       "array([ 9.67581169, 10.86591902,  9.99101308,  6.27055723,  8.78454828])"
      ]
     },
     "execution_count": 33,
     "metadata": {},
     "output_type": "execute_result"
    }
   ],
   "source": [
    "m = 10; sigma = 2\n",
    "m + sigma*np.random.randn(5)"
   ]
  },
  {
   "cell_type": "code",
   "execution_count": null,
   "id": "8d1c21e1",
   "metadata": {},
   "outputs": [],
   "source": []
  }
 ],
 "metadata": {
  "kernelspec": {
   "display_name": "Python 3 (ipykernel)",
   "language": "python",
   "name": "python3"
  },
  "language_info": {
   "codemirror_mode": {
    "name": "ipython",
    "version": 3
   },
   "file_extension": ".py",
   "mimetype": "text/x-python",
   "name": "python",
   "nbconvert_exporter": "python",
   "pygments_lexer": "ipython3",
   "version": "3.9.8"
  },
  "toc": {
   "base_numbering": 1,
   "nav_menu": {},
   "number_sections": true,
   "sideBar": true,
   "skip_h1_title": false,
   "title_cell": "Table of Contents",
   "title_sidebar": "Contents",
   "toc_cell": false,
   "toc_position": {
    "height": "calc(100% - 180px)",
    "left": "10px",
    "top": "150px",
    "width": "165px"
   },
   "toc_section_display": true,
   "toc_window_display": true
  },
  "varInspector": {
   "cols": {
    "lenName": 16,
    "lenType": 16,
    "lenVar": 40
   },
   "kernels_config": {
    "python": {
     "delete_cmd_postfix": "",
     "delete_cmd_prefix": "del ",
     "library": "var_list.py",
     "varRefreshCmd": "print(var_dic_list())"
    },
    "r": {
     "delete_cmd_postfix": ") ",
     "delete_cmd_prefix": "rm(",
     "library": "var_list.r",
     "varRefreshCmd": "cat(var_dic_list()) "
    }
   },
   "types_to_exclude": [
    "module",
    "function",
    "builtin_function_or_method",
    "instance",
    "_Feature"
   ],
   "window_display": false
  }
 },
 "nbformat": 4,
 "nbformat_minor": 5
}
